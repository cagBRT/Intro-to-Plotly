{
  "nbformat": 4,
  "nbformat_minor": 0,
  "metadata": {
    "colab": {
      "private_outputs": true,
      "provenance": [],
      "authorship_tag": "ABX9TyOk4K49xGOlD4EpV0cF6PVw",
      "include_colab_link": true
    },
    "kernelspec": {
      "name": "python3",
      "display_name": "Python 3"
    },
    "language_info": {
      "name": "python"
    }
  },
  "cells": [
    {
      "cell_type": "markdown",
      "metadata": {
        "id": "view-in-github",
        "colab_type": "text"
      },
      "source": [
        "<a href=\"https://colab.research.google.com/github/cagBRT/Intro-to-Plotly/blob/main/Plotly_2.ipynb\" target=\"_parent\"><img src=\"https://colab.research.google.com/assets/colab-badge.svg\" alt=\"Open In Colab\"/></a>"
      ]
    },
    {
      "cell_type": "markdown",
      "source": [
        "# Python Plotly Library<br>\n",
        "is an open-source library that can be used for data visualization and understanding data simply and easily. Plotly supports various types of plots like line charts, scatter plots, histograms, cox plots, etc."
      ],
      "metadata": {
        "id": "TgUJ29a_OFVf"
      }
    },
    {
      "cell_type": "code",
      "execution_count": null,
      "metadata": {
        "id": "0LnQQUiDI8IL"
      },
      "outputs": [],
      "source": [
        "!pip install plotly"
      ]
    },
    {
      "cell_type": "markdown",
      "source": [
        "**There are three main modules in the Plotly library:** <br>\n",
        "\n",
        "1. plotly.plotly -- acts as the interface between our code and the Plotly server. \n",
        "2. plotly.graph_objects -- this module contains graphical objects:<br>Figure,<br> layout,<br> data,<br> the definition of the plots like scatter plot, line chart<br>\n",
        "3. plotly tools\n"
      ],
      "metadata": {
        "id": "DrC2hZTMOWru"
      }
    },
    {
      "cell_type": "markdown",
      "source": [
        "# Plotly Express"
      ],
      "metadata": {
        "id": "EdIY8TFvkWwD"
      }
    },
    {
      "cell_type": "markdown",
      "source": [
        "The plotly.express can create a Figure at once. It uses the graph_objects and returns a grap_objects.Figure"
      ],
      "metadata": {
        "id": "VFOnwV9lPO95"
      }
    },
    {
      "cell_type": "code",
      "source": [
        "import plotly.express as px "
      ],
      "metadata": {
        "id": "13_FeNElQb-f"
      },
      "execution_count": null,
      "outputs": []
    },
    {
      "cell_type": "code",
      "source": [
        "#This code prints the inputs used to create the Figure\n",
        "#And what the figure returns\n",
        "\n",
        "# Creating the Figure instance\n",
        "fig = px.line(x=[1,2, 3], y=[1, 2, 3]) \n",
        "  \n",
        "# printing the figure instance\n",
        "print(fig)"
      ],
      "metadata": {
        "id": "7_Xo8H6HPovC"
      },
      "execution_count": null,
      "outputs": []
    },
    {
      "cell_type": "code",
      "source": [
        "# Creating the Figure instance\n",
        "#Using plotly express, a figure is created\n",
        "fig = px.line(x=[1,2, 3], y=[1, 2, 3]) \n",
        "fig.show()"
      ],
      "metadata": {
        "id": "dojAiZpPJoPT"
      },
      "execution_count": null,
      "outputs": []
    },
    {
      "cell_type": "markdown",
      "source": [
        "**Assignment 1:** <br>\n",
        "Create a dataset of 10 x and y coordinates. \n",
        "Using plotly express, create a line graph of the dataset"
      ],
      "metadata": {
        "id": "PGDMvtxgQHzx"
      }
    },
    {
      "cell_type": "code",
      "source": [],
      "metadata": {
        "id": "NrHGJFcgQXTg"
      },
      "execution_count": null,
      "outputs": []
    },
    {
      "cell_type": "markdown",
      "source": [
        "**Using plotly Express to create a bar chart or a line chart**"
      ],
      "metadata": {
        "id": "zIKkz8-CQlcU"
      }
    },
    {
      "cell_type": "code",
      "source": [
        "fig = px.bar(x=[\"a\", \"b\", \"c\"], y=[1, 3, 2])\n",
        "fig.show()"
      ],
      "metadata": {
        "id": "QrYSV0JkJBJQ"
      },
      "execution_count": null,
      "outputs": []
    },
    {
      "cell_type": "code",
      "source": [
        "# using the iris dataset\n",
        "df = px.data.iris() \n",
        "  \n",
        "# plotting the line chart\n",
        "fig = px.line(df, x=\"species\", y=\"petal_width\") \n",
        "  \n",
        "# showing the plot\n",
        "fig.show()"
      ],
      "metadata": {
        "id": "v-J4vWakJ01F"
      },
      "execution_count": null,
      "outputs": []
    },
    {
      "cell_type": "code",
      "source": [
        "# plotting the bar chart\n",
        "fig = px.bar(df, x=\"sepal_width\", y=\"sepal_length\") \n",
        "  \n",
        "# showing the plot\n",
        "fig.show()"
      ],
      "metadata": {
        "id": "AFKTCq_lJ6ga"
      },
      "execution_count": null,
      "outputs": []
    },
    {
      "cell_type": "markdown",
      "source": [
        "**Assingment 2:** <br>\n",
        "Create a bar graph of two columns of the california housing training dataset. "
      ],
      "metadata": {
        "id": "Iqv1sCi9Q2Kw"
      }
    },
    {
      "cell_type": "code",
      "source": [
        "#Assignment 2\n",
        "#Notice we created the dataframe using Pandas\n",
        "df = pd.read_csv(\"/content/sample_data/california_housing_train.csv\")\n",
        "df.columns"
      ],
      "metadata": {
        "id": "iDpSB3W-R-7Z"
      },
      "execution_count": null,
      "outputs": []
    },
    {
      "cell_type": "markdown",
      "source": [
        "**Creating a histogram**<br>\n",
        "A histogram is a graph used to represent the frequency distribution of a few data points of one variable. Histograms often classify data into various “bins” or “range groups” and count how many data points belong to each of those bins."
      ],
      "metadata": {
        "id": "_mzGCFpQhxA_"
      }
    },
    {
      "cell_type": "code",
      "source": [
        "# plotting the histogram\n",
        "fig = px.histogram(df, x=\"sepal_length\", y=\"petal_width\") \n",
        "  \n",
        "# showing the plot\n",
        "fig.show()"
      ],
      "metadata": {
        "id": "k4K_RVP3J90u"
      },
      "execution_count": null,
      "outputs": []
    },
    {
      "cell_type": "markdown",
      "source": [
        "**Creating a scatterplot**"
      ],
      "metadata": {
        "id": "rYXDRDT4iOHn"
      }
    },
    {
      "cell_type": "code",
      "source": [
        "# plotting the scatter chart\n",
        "fig = px.scatter(df, x=\"species\", y=\"petal_width\") \n",
        "  \n",
        "# showing the plot\n",
        "fig.show()"
      ],
      "metadata": {
        "id": "cLI3nnyKKCIf"
      },
      "execution_count": null,
      "outputs": []
    },
    {
      "cell_type": "code",
      "source": [
        "# plotting the bubble chart\n",
        "fig = px.scatter(df, x=\"species\", y=\"petal_width\", \n",
        "                 size=\"petal_length\", color=\"species\") \n",
        "  \n",
        "# showing the plot\n",
        "fig.show()"
      ],
      "metadata": {
        "id": "KTtWF9RmKGk7"
      },
      "execution_count": null,
      "outputs": []
    },
    {
      "cell_type": "markdown",
      "source": [
        "**Assignment 3:** <br>\n",
        "Using two columns from the california house training dataset, create a bubble scatter plot"
      ],
      "metadata": {
        "id": "KWAi1NGGiVvb"
      }
    },
    {
      "cell_type": "code",
      "source": [
        "#Assignment 3"
      ],
      "metadata": {
        "id": "4u1crxHdih3i"
      },
      "execution_count": null,
      "outputs": []
    },
    {
      "cell_type": "markdown",
      "source": [
        "**Creating a pie chart**"
      ],
      "metadata": {
        "id": "Rtf5ATrLiqBi"
      }
    },
    {
      "cell_type": "code",
      "source": [
        "# using the tips dataset\n",
        "df = px.data.tips() \n",
        "  \n",
        "# plotting the pie chart\n",
        "fig = px.pie(df, values=\"total_bill\", names=\"day\") \n",
        "  \n",
        "# showing the plot\n",
        "fig.show()"
      ],
      "metadata": {
        "id": "z15A-92TKLor"
      },
      "execution_count": null,
      "outputs": []
    },
    {
      "cell_type": "markdown",
      "source": [
        "**Creating a box plot**<br>\n",
        "A box plot is a graphical rendition of statistical data based on:<br>\n",
        "> minimum, <br>first quartile, <br>median, <br>third quartile,  <br>maximum. <br>\n",
        " <br>The term \"box plot\" comes from the fact that the graph looks like a rectangle with lines extending from the top and bottom."
      ],
      "metadata": {
        "id": "bCy3_FkfiuMh"
      }
    },
    {
      "cell_type": "code",
      "source": [
        "# using the tips dataset\n",
        "df = px.data.tips() \n",
        "  \n",
        "# plotting the box chart\n",
        "fig = px.box(df, x=\"day\", y=\"total_bill\") \n",
        "  \n",
        "# showing the plot\n",
        "fig.show()"
      ],
      "metadata": {
        "id": "1aQz_vSvKXiM"
      },
      "execution_count": null,
      "outputs": []
    },
    {
      "cell_type": "markdown",
      "source": [
        "**Violin Plots**<br>\n",
        "A violin plot is a hybrid of a box plot and a kernel density plot, which shows peaks in the data.<br> \n",
        "It is used to visualize the distribution of numerical data. Unlike a box plot that can only show summary statistics, violin plots depict summary statistics and the density of each variable."
      ],
      "metadata": {
        "id": "14XXw7MrjU9r"
      }
    },
    {
      "cell_type": "code",
      "source": [
        "# plotting the violin chart\n",
        "fig = px.violin(df, x=\"day\", y=\"total_bill\")\n",
        "  \n",
        "# showing the plot\n",
        "fig.show()"
      ],
      "metadata": {
        "id": "K_NCQbtPKbzb"
      },
      "execution_count": null,
      "outputs": []
    },
    {
      "cell_type": "markdown",
      "source": [
        "**Creating a Gant Chart**"
      ],
      "metadata": {
        "id": "pATDivsCje_f"
      }
    },
    {
      "cell_type": "code",
      "source": [
        "# Data to be plotted\n",
        "import plotly.figure_factory as ff \n",
        "df = [dict(Task=\"A\", Start='2020-01-01', Finish='2009-02-02'), \n",
        "    dict(Task=\"Job B\", Start='2020-03-01', Finish='2020-11-11'), \n",
        "    dict(Task=\"Job C\", Start='2020-08-06', Finish='2020-09-21')] \n",
        "  \n",
        "# Creating the plot\n",
        "fig = ff.create_gantt(df) \n",
        "fig.show()"
      ],
      "metadata": {
        "id": "pOAItAKxKfQh"
      },
      "execution_count": null,
      "outputs": []
    },
    {
      "cell_type": "markdown",
      "source": [
        "**Creating a Mesh Grid**"
      ],
      "metadata": {
        "id": "ba6Cl7Rgjm02"
      }
    },
    {
      "cell_type": "code",
      "source": [
        "import plotly.graph_objects as go \n",
        "import numpy as np\n",
        "\n",
        "# Creating the X, Y value that will\n",
        "# change the values of Z as a function\n",
        "feature_x = np.arange(0, 50, 2) \n",
        "feature_y = np.arange(0, 50, 3) \n",
        "  \n",
        "# Creating 2-D grid of features \n",
        "[X, Y] = np.meshgrid(feature_x, feature_y) \n",
        "  \n",
        "Z = np.cos(X / 2) + np.sin(Y / 4) \n",
        "  \n",
        "# plotting the figure\n",
        "fig = go.Figure(data =\n",
        "    go.Contour(x = feature_x, y = feature_y, z = Z)) \n",
        "  \n",
        "fig.show()"
      ],
      "metadata": {
        "id": "6OYX4rrVKvDV"
      },
      "execution_count": null,
      "outputs": []
    },
    {
      "cell_type": "code",
      "source": [
        "feature_x = np.arange(0, 50, 2) \n",
        "feature_y = np.arange(0, 50, 3) \n",
        "  \n",
        "# Creating 2-D grid of features \n",
        "[X, Y] = np.meshgrid(feature_x, feature_y) \n",
        "  \n",
        "Z = np.cos(X / 2) + np.sin(Y / 4) \n",
        "  \n",
        "# plotting the figure\n",
        "fig = go.Figure(data =\n",
        "     go.Heatmap(x = feature_x, y = feature_y, z = Z,)) \n",
        "  \n",
        "fig.show()"
      ],
      "metadata": {
        "id": "5uGKV-eSK7Yv"
      },
      "execution_count": null,
      "outputs": []
    },
    {
      "cell_type": "markdown",
      "source": [
        "**Assignment 4**<br>\n",
        "Using two columns from the california housing dataset, create a meshgrid"
      ],
      "metadata": {
        "id": "hkNBPDZTjx5x"
      }
    },
    {
      "cell_type": "code",
      "source": [
        "#Assignment 4\n"
      ],
      "metadata": {
        "id": "M_p4N2Hkj_46"
      },
      "execution_count": null,
      "outputs": []
    },
    {
      "cell_type": "markdown",
      "source": [
        "**Error scatter plot**"
      ],
      "metadata": {
        "id": "bHN0xHDhkIuD"
      }
    },
    {
      "cell_type": "code",
      "source": [
        "# using the iris dataset\n",
        "df = px.data.iris() \n",
        "  \n",
        "# Calculating the error field\n",
        "df[\"error\"] = df[\"petal_length\"]/100\n",
        "  \n",
        "# plotting the scatter chart\n",
        "fig = px.scatter(df, x=\"species\", y=\"petal_width\",\n",
        "                error_x=\"error\", error_y=\"error\") \n",
        "  \n",
        "# showing the plot\n",
        "fig.show()"
      ],
      "metadata": {
        "id": "9eBqKuoHK-13"
      },
      "execution_count": null,
      "outputs": []
    },
    {
      "cell_type": "markdown",
      "source": [
        "**Creating 3D line charts**"
      ],
      "metadata": {
        "id": "wQk7CaA2kEil"
      }
    },
    {
      "cell_type": "code",
      "source": [
        "# data to be plotted\n",
        "df = px.data.tips() \n",
        "  \n",
        "# plotting the figure\n",
        "fig = px.line_3d(df, x=\"sex\", y=\"day\", \n",
        "                 z=\"time\", color=\"sex\") \n",
        "  \n",
        "fig.show()"
      ],
      "metadata": {
        "id": "h-ExLOYULB_Z"
      },
      "execution_count": null,
      "outputs": []
    },
    {
      "cell_type": "code",
      "source": [
        "# Plotting the figure\n",
        "df = px.data.iris()\n",
        "fig = px.scatter_3d(df, x = 'sepal_width', \n",
        "                    y = 'sepal_length', \n",
        "                    z = 'petal_width', \n",
        "                    color = 'species') \n",
        "  \n",
        "fig.show()"
      ],
      "metadata": {
        "id": "cXqV7mgmLFcQ"
      },
      "execution_count": null,
      "outputs": []
    },
    {
      "cell_type": "code",
      "source": [
        "# Data to be plotted\n",
        "x = np.outer(np.linspace(-2, 2, 30), np.ones(30)) \n",
        "y = x.copy().T \n",
        "z = np.cos(x ** 2 + y ** 2) \n",
        "  \n",
        "# plotting the figure\n",
        "fig = go.Figure(data=[go.Surface(x=x, y=y, z=z)]) \n",
        "  \n",
        "fig.show()"
      ],
      "metadata": {
        "id": "UIM-jnloLPSD"
      },
      "execution_count": null,
      "outputs": []
    },
    {
      "cell_type": "markdown",
      "source": [
        "**Assignment 5:**<br>\n",
        "Using the california housing dataset, create a 3D plot of your choice"
      ],
      "metadata": {
        "id": "ETw2rVaVknu6"
      }
    },
    {
      "cell_type": "code",
      "source": [
        "#Assignment 5\n"
      ],
      "metadata": {
        "id": "XjUwf_o5kwRl"
      },
      "execution_count": null,
      "outputs": []
    },
    {
      "cell_type": "markdown",
      "source": [
        "# Plotly Graph Objects"
      ],
      "metadata": {
        "id": "2RfVEJQRkhCv"
      }
    },
    {
      "cell_type": "markdown",
      "source": [
        "With Graph Objects, we can create interactive graphs, giving more control to the user. "
      ],
      "metadata": {
        "id": "S6eEpbNok2JX"
      }
    },
    {
      "cell_type": "code",
      "source": [
        "!pip install plotly"
      ],
      "metadata": {
        "id": "WyaQoUZaryLK"
      },
      "execution_count": null,
      "outputs": []
    },
    {
      "cell_type": "code",
      "source": [
        "import ploty.express as px\n",
        "import plotly.graph_objects as go"
      ],
      "metadata": {
        "id": "SoYS4-4flAc1"
      },
      "execution_count": null,
      "outputs": []
    },
    {
      "cell_type": "code",
      "source": [
        "# creating random data through randomint\n",
        "# function of numpy.random\n",
        "np.random.seed(42)\n",
        "  \n",
        "# Data to be Plotted\n",
        "random_x = np.random.randint(1, 101, 100)\n",
        "random_y = np.random.randint(1, 101, 100)\n",
        "  \n",
        "plot = go.Figure(data=[px.Scatter(\n",
        "    x=random_x,\n",
        "    y=random_y,\n",
        "    mode='markers',)\n",
        "])"
      ],
      "metadata": {
        "id": "Bl24F82xLbCv"
      },
      "execution_count": null,
      "outputs": []
    },
    {
      "cell_type": "markdown",
      "source": [
        "**Creating the user interface**<br>\n",
        "This code creates a drop down menu that offers two options: <br>\n",
        ">scatter plot<br>\n",
        "bar chart<br>"
      ],
      "metadata": {
        "id": "ewkJd4HflLLX"
      }
    },
    {
      "cell_type": "code",
      "source": [
        "# Add dropdown\n",
        "plot.update_layout(\n",
        "    updatemenus=[\n",
        "        dict(\n",
        "            buttons=list([\n",
        "                dict(\n",
        "                    args=[\"type\", \"scatter\"],\n",
        "                    label=\"Scatter Plot\",\n",
        "                    method=\"restyle\"\n",
        "                ),\n",
        "                dict(\n",
        "                    args=[\"type\", \"bar\"],\n",
        "                    label=\"Bar Chart\",\n",
        "                    method=\"restyle\"\n",
        "                )\n",
        "            ]),\n",
        "            direction=\"down\",\n",
        "        ),\n",
        "    ]\n",
        ")\n",
        "  \n",
        "plot.show()"
      ],
      "metadata": {
        "id": "gPTrD2yVlH4Z"
      },
      "execution_count": null,
      "outputs": []
    },
    {
      "cell_type": "markdown",
      "source": [
        "This example puts two buttons on the user interface"
      ],
      "metadata": {
        "id": "xVIAix8lmEGM"
      }
    },
    {
      "cell_type": "code",
      "source": [
        "import plotly.express as px\n",
        "import plotly.graph_objects as go\n",
        "import pandas as pd\n",
        "  \n",
        "# reading the database\n",
        "data = px.data.tips() \n",
        "  \n",
        "  \n",
        "plot = go.Figure(data=[go.Scatter(\n",
        "    x=data['day'],\n",
        "    y=data['tip'],\n",
        "    mode='markers',)\n",
        "])\n",
        "  \n",
        "# Add dropdown\n",
        "plot.update_layout(\n",
        "    updatemenus=[\n",
        "        dict(\n",
        "            type=\"buttons\",\n",
        "            direction=\"left\",\n",
        "            buttons=list([\n",
        "                dict(\n",
        "                    args=[\"type\", \"scatter\"],\n",
        "                    label=\"Scatter Plot\",\n",
        "                    method=\"restyle\"\n",
        "                ),\n",
        "                dict(\n",
        "                    args=[\"type\", \"bar\"],\n",
        "                    label=\"Bar Chart\",\n",
        "                    method=\"restyle\"\n",
        "                )\n",
        "            ]),\n",
        "        ),\n",
        "    ]\n",
        ")\n",
        "  \n",
        "plot.show()"
      ],
      "metadata": {
        "id": "CVUVcG3DLn4-"
      },
      "execution_count": null,
      "outputs": []
    },
    {
      "cell_type": "markdown",
      "source": [
        "**Adding a slider bar**"
      ],
      "metadata": {
        "id": "nVfckKRumzRg"
      }
    },
    {
      "cell_type": "code",
      "source": [
        "#Add a slider bar to the figure\n",
        "df = px.data.tips() \n",
        "  \n",
        "x = df['total_bill'] \n",
        "y = df['day'] \n",
        "  \n",
        "plot = go.Figure(data=[go.Scatter( \n",
        "    x=x, \n",
        "    y=y, \n",
        "    mode='lines',) \n",
        "]) \n",
        "  \n",
        "plot.update_layout( \n",
        "    xaxis=dict( \n",
        "        rangeselector=dict( \n",
        "            buttons=list([ \n",
        "                dict(count=1, \n",
        "                    step=\"day\", \n",
        "                    stepmode=\"backward\"), \n",
        "            ]) \n",
        "        ), \n",
        "        rangeslider=dict( \n",
        "            visible=True\n",
        "        ), \n",
        "    ) \n",
        ") \n",
        "  \n",
        "plot.show() "
      ],
      "metadata": {
        "id": "kBeOzHotmfgQ"
      },
      "execution_count": null,
      "outputs": []
    },
    {
      "cell_type": "markdown",
      "source": [
        "**Assignment 6**<br>\n",
        "Use the california housing dataset to create an interactive user interface"
      ],
      "metadata": {
        "id": "_BIj90QlmKC4"
      }
    },
    {
      "cell_type": "code",
      "source": [
        "#Assignment 6"
      ],
      "metadata": {
        "id": "7z3rVzNomW1t"
      },
      "execution_count": null,
      "outputs": []
    },
    {
      "cell_type": "markdown",
      "source": [
        "# Figure Factory<br>\n",
        "Plotly's Python API contains a figure factory module which includes many wrapper functions that create unique chart types "
      ],
      "metadata": {
        "id": "pKfQglLDnMO_"
      }
    },
    {
      "cell_type": "code",
      "source": [
        "!pip install plotly"
      ],
      "metadata": {
        "id": "kzz4FD1pr-DY"
      },
      "execution_count": null,
      "outputs": []
    },
    {
      "cell_type": "code",
      "source": [
        "import ploty.express as px\n",
        "import plotly.graph_objects as go"
      ],
      "metadata": {
        "id": "BOOH4XPDr87w"
      },
      "execution_count": null,
      "outputs": []
    },
    {
      "cell_type": "code",
      "source": [
        "import plotly.figure_factory as ff"
      ],
      "metadata": {
        "id": "zVY8Or3kowW9"
      },
      "execution_count": null,
      "outputs": []
    },
    {
      "cell_type": "code",
      "source": [
        "data = [\n",
        "{\"label\": \"revenue\",\n",
        "\"sublabel\": \"us$, in thousands\",\n",
        "\"range\": [150, 225, 300],\n",
        "\"performance\": [220,270],\n",
        "\"point\": [250]},\n",
        "\t\n",
        "{\"label\": \"Profit\",\n",
        "\"sublabel\": \"%\",\n",
        "\"range\": [20, 25, 30],\n",
        "\"performance\": [21, 23],\n",
        "\"point\": [26]},\n",
        "\t\n",
        "{\"label\": \"Order Size\",\n",
        "\"sublabel\":\"US$, average\",\n",
        "\"range\": [350, 500, 600],\n",
        "\"performance\": [100,320],\n",
        "\"point\": [550]},\n",
        "\t\n",
        "{\"label\": \"New Customers\",\n",
        "\"sublabel\": \"count\",\n",
        "\"range\": [1400, 2000, 2500],\n",
        "\"performance\": [1000, 1650],\n",
        "\"point\": [2100]},\n",
        "\t\n",
        "{\"label\": \"Satisfaction\",\n",
        "\"sublabel\": \"out of 5\",\n",
        "\"range\": [3.5, 4.25, 5],\n",
        "\"performance\": [3.2, 4.7],\n",
        "\"point\": [4.4]}\n",
        "]\n",
        "\n",
        "fig = ff.create_bullet(\n",
        "\tdata, titles='label',\n",
        "\tsubtitles='sublabel',\n",
        "\tmarkers='point',\n",
        "\tmeasures='performance',\n",
        "\tranges='range',\n",
        "\torientation='h',\n",
        "\ttitle='A simple bullet chart'\n",
        ")\n",
        "\n",
        "fig.show()"
      ],
      "metadata": {
        "id": "ULQ4t5VFnQbP"
      },
      "execution_count": null,
      "outputs": []
    },
    {
      "cell_type": "markdown",
      "source": [
        "**More complex figure factory use**"
      ],
      "metadata": {
        "id": "sZhoeCcfpZEl"
      }
    },
    {
      "cell_type": "markdown",
      "source": [
        "**Vertical Figure Factory Charts**<br>\n",
        "1. Create the figures that are to appear in the subplot"
      ],
      "metadata": {
        "id": "-k4UKXJ7pfyF"
      }
    },
    {
      "cell_type": "code",
      "source": [
        "## Create first figure\n",
        "x1,y1 = np.meshgrid(np.arange(0, 2, .2), np.arange(0, 2, .2))\n",
        "u1 = np.cos(x1)*y1\n",
        "v1 = np.sin(x1)*y1\n",
        "\n",
        "fig1 = ff.create_quiver(x1, y1, u1, v1, name='Quiver')\n",
        "\n",
        "## Create second figure\n",
        "x = np.linspace(-3, 3, 100)\n",
        "y = np.linspace(-3, 3, 100)\n",
        "Y, X = np.meshgrid(x, y)\n",
        "u = -1 - X**2 + Y\n",
        "v = 1 + X - Y**2\n",
        "\n",
        "fig2 = ff.create_streamline(x, y, u, v, arrow_scale=.1, name='Steamline')"
      ],
      "metadata": {
        "id": "R0T-aKXupee_"
      },
      "execution_count": null,
      "outputs": []
    },
    {
      "cell_type": "markdown",
      "source": [
        "2. Edit the figure's x and y axes attributes to create the subplots"
      ],
      "metadata": {
        "id": "zOAgcsg8pwsD"
      }
    },
    {
      "cell_type": "code",
      "source": [
        "for i in range(len(fig1.data)):\n",
        "    fig1.data[i].xaxis='x1'\n",
        "    fig1.data[i].yaxis='y1'\n",
        "\n",
        "fig1.layout.xaxis1.update({'anchor': 'y1'})\n",
        "fig1.layout.yaxis1.update({'anchor': 'x1', 'domain': [.55, 1]})\n",
        "\n",
        "for i in range(len(fig2.data)):\n",
        "    fig2.data[i].xaxis='x2'\n",
        "    fig2.data[i].yaxis='y2'\n",
        "\n",
        "# initialize xaxis2 and yaxis2\n",
        "fig2['layout']['xaxis2'] = {}\n",
        "fig2['layout']['yaxis2'] = {}\n",
        "\n",
        "fig2.layout.xaxis2.update({'anchor': 'y2'})\n",
        "fig2.layout.yaxis2.update({'anchor': 'x2', 'domain': [0, .45]})"
      ],
      "metadata": {
        "id": "ZUrpBMA-p2qk"
      },
      "execution_count": null,
      "outputs": []
    },
    {
      "cell_type": "markdown",
      "source": [
        "3. Combine the data and the layout objects to create a figure"
      ],
      "metadata": {
        "id": "FnpVWTGVp6Kq"
      }
    },
    {
      "cell_type": "code",
      "source": [
        "fig = go.Figure()\n",
        "fig.add_traces([fig1.data[0], fig2.data[0]])\n",
        "\n",
        "fig.layout.update(fig1.layout)\n",
        "fig.layout.update(fig2.layout)\n",
        "\n",
        "fig.show()"
      ],
      "metadata": {
        "id": "3Ln3Id_vp_Lc"
      },
      "execution_count": null,
      "outputs": []
    },
    {
      "cell_type": "markdown",
      "source": [
        "**Horizontal Table and Chart**"
      ],
      "metadata": {
        "id": "KrL-NoH7q08L"
      }
    },
    {
      "cell_type": "code",
      "source": [
        "table_data = [['Team', 'Wins', 'Losses', 'Ties'],\n",
        "              ['Montréal<br>Canadiens', 18, 4, 0],\n",
        "              ['Dallas Stars', 18, 5, 0],\n",
        "              ['NY Rangers', 16, 5, 0],\n",
        "              ['Boston<br>Bruins', 13, 8, 0],\n",
        "              ['Chicago<br>Blackhawks', 13, 8, 0],\n",
        "              ['LA Kings', 13, 8, 0],\n",
        "              ['Ottawa<br>Senators', 12, 5, 0]]\n",
        "\n",
        "fig = ff.create_table(table_data, height_constant=60)\n",
        "\n",
        "teams = ['Montréal Canadiens', 'Dallas Stars', 'NY Rangers',\n",
        "         'Boston Bruins', 'Chicago Blackhawks', 'LA Kings', 'Ottawa Senators']\n",
        "GFPG = [3.54, 3.48, 3.0, 3.27, 2.83, 2.45, 3.18]\n",
        "GAPG = [2.17, 2.57, 2.0, 2.91, 2.57, 2.14, 2.77]\n",
        "\n",
        "trace1 = go.Scatter(x=teams, y=GFPG,\n",
        "                    marker=dict(color='#0099ff'),\n",
        "                    name='Goals For<br>Per Game',\n",
        "                    xaxis='x2', yaxis='y2')\n",
        "trace2 = go.Scatter(x=teams, y=GAPG,\n",
        "                    marker=dict(color='#404040'),\n",
        "                    name='Goals Against<br>Per Game',\n",
        "                    xaxis='x2', yaxis='y2')\n",
        "\n",
        "fig.add_traces([trace1, trace2])\n",
        "\n",
        "# initialize xaxis2 and yaxis2\n",
        "fig['layout']['xaxis2'] = {}\n",
        "fig['layout']['yaxis2'] = {}\n",
        "\n",
        "# Edit layout for subplots\n",
        "fig.layout.xaxis.update({'domain': [0, .5]})\n",
        "fig.layout.xaxis2.update({'domain': [0.6, 1.]})\n",
        "\n",
        "# The graph's yaxis MUST BE anchored to the graph's xaxis\n",
        "fig.layout.yaxis2.update({'anchor': 'x2'})\n",
        "fig.layout.yaxis2.update({'title': 'Goals'})\n",
        "\n",
        "# Update the margins to add a title and see graph x-labels.\n",
        "fig.layout.margin.update({'t':50, 'b':100})\n",
        "fig.layout.update({'title': '2016 Hockey Stats'})\n",
        "\n",
        "fig.show()\n"
      ],
      "metadata": {
        "id": "H85twXyXq4ph"
      },
      "execution_count": null,
      "outputs": []
    },
    {
      "cell_type": "markdown",
      "source": [
        "**Verical Table and Chart**"
      ],
      "metadata": {
        "id": "rHTmklB2q-mO"
      }
    },
    {
      "cell_type": "code",
      "source": [
        "# Add table data\n",
        "table_data = [['Team', 'Wins', 'Losses', 'Ties'],\n",
        "              ['Montréal<br>Canadiens', 18, 4, 0],\n",
        "              ['Dallas Stars', 18, 5, 0],\n",
        "              ['NY Rangers', 16, 5, 0],\n",
        "              ['Boston<br>Bruins', 13, 8, 0],\n",
        "              ['Chicago<br>Blackhawks', 13, 8, 0],\n",
        "              ['Ottawa<br>Senators', 12, 5, 0]]\n",
        "\n",
        "# Initialize a figure with ff.create_table(table_data)\n",
        "fig = ff.create_table(table_data, height_constant=60)\n",
        "\n",
        "# Add graph data\n",
        "teams = ['Montréal Canadiens', 'Dallas Stars', 'NY Rangers',\n",
        "         'Boston Bruins', 'Chicago Blackhawks', 'Ottawa Senators']\n",
        "GFPG = [3.54, 3.48, 3.0, 3.27, 2.83, 3.18]\n",
        "GAPG = [2.17, 2.57, 2.0, 2.91, 2.57, 2.77]\n",
        "\n",
        "# Make traces for graph\n",
        "trace1 = go.Bar(x=teams, y=GFPG, xaxis='x2', yaxis='y2',\n",
        "                marker=dict(color='#0099ff'),\n",
        "                name='Goals For<br>Per Game')\n",
        "trace2 = go.Bar(x=teams, y=GAPG, xaxis='x2', yaxis='y2',\n",
        "                marker=dict(color='#404040'),\n",
        "                name='Goals Against<br>Per Game')\n",
        "\n",
        "# Add trace data to figure\n",
        "fig.add_traces([trace1, trace2])\n",
        "\n",
        "# initialize xaxis2 and yaxis2\n",
        "fig['layout']['xaxis2'] = {}\n",
        "fig['layout']['yaxis2'] = {}\n",
        "\n",
        "# Edit layout for subplots\n",
        "fig.layout.yaxis.update({'domain': [0, .45]})\n",
        "fig.layout.yaxis2.update({'domain': [.6, 1]})\n",
        "\n",
        "# The graph's yaxis2 MUST BE anchored to the graph's xaxis2 and vice versa\n",
        "fig.layout.yaxis2.update({'anchor': 'x2'})\n",
        "fig.layout.xaxis2.update({'anchor': 'y2'})\n",
        "fig.layout.yaxis2.update({'title': 'Goals'})\n",
        "\n",
        "# Update the margins to add a title and see graph x-labels.\n",
        "fig.layout.margin.update({'t':75, 'l':50})\n",
        "fig.layout.update({'title': '2016 Hockey Stats'})\n",
        "\n",
        "# Update the height because adding a graph vertically will interact with\n",
        "# the plot height calculated for the table\n",
        "fig.layout.update({'height':800})\n",
        "\n",
        "# Plot!\n",
        "fig.show()"
      ],
      "metadata": {
        "id": "uwwRD2itrCSt"
      },
      "execution_count": null,
      "outputs": []
    }
  ]
}