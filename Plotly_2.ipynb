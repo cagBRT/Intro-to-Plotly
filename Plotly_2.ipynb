{
  "nbformat": 4,
  "nbformat_minor": 0,
  "metadata": {
    "colab": {
      "private_outputs": true,
      "provenance": [],
      "authorship_tag": "ABX9TyMR0b7Ex79WS4Do2hjb0zBK",
      "include_colab_link": true
    },
    "kernelspec": {
      "name": "python3",
      "display_name": "Python 3"
    },
    "language_info": {
      "name": "python"
    }
  },
  "cells": [
    {
      "cell_type": "markdown",
      "metadata": {
        "id": "view-in-github",
        "colab_type": "text"
      },
      "source": [
        "<a href=\"https://colab.research.google.com/github/cagBRT/Intro-to-Plotly/blob/main/Plotly_2.ipynb\" target=\"_parent\"><img src=\"https://colab.research.google.com/assets/colab-badge.svg\" alt=\"Open In Colab\"/></a>"
      ]
    },
    {
      "cell_type": "markdown",
      "source": [
        "# Plotly Graph Objects"
      ],
      "metadata": {
        "id": "2RfVEJQRkhCv"
      }
    },
    {
      "cell_type": "markdown",
      "source": [
        "With Graph Objects, we can create interactive graphs, giving more control to the user. "
      ],
      "metadata": {
        "id": "S6eEpbNok2JX"
      }
    },
    {
      "cell_type": "code",
      "source": [
        "!pip install plotly"
      ],
      "metadata": {
        "id": "WyaQoUZaryLK"
      },
      "execution_count": null,
      "outputs": []
    },
    {
      "cell_type": "code",
      "source": [
        "import plotly.express as px\n",
        "import plotly.graph_objects as go\n",
        "import numpy as np\n",
        "import pandas as pd"
      ],
      "metadata": {
        "id": "SoYS4-4flAc1"
      },
      "execution_count": null,
      "outputs": []
    },
    {
      "cell_type": "code",
      "source": [
        "from sklearn import datasets\n",
        "dir(datasets)"
      ],
      "metadata": {
        "id": "SYN4B1FfcCWj"
      },
      "execution_count": null,
      "outputs": []
    },
    {
      "cell_type": "code",
      "source": [
        "# creating random data through randomint\n",
        "# function of numpy.random\n",
        "np.random.seed(42)\n",
        "  \n",
        "# Data to be Plotted\n",
        "random_x = np.random.randint(1, 101, 100)\n",
        "random_y = np.random.randint(1, 101, 100)\n",
        "  \n",
        "fig = px.scatter(x=random_x, y=random_y)\n",
        "fig.show()"
      ],
      "metadata": {
        "id": "Bl24F82xLbCv"
      },
      "execution_count": null,
      "outputs": []
    },
    {
      "cell_type": "markdown",
      "source": [
        "**Creating the user interface**<br>\n",
        "This code creates a drop down menu that offers two options: <br>\n",
        ">scatter plot<br>\n",
        "bar chart<br>"
      ],
      "metadata": {
        "id": "ewkJd4HflLLX"
      }
    },
    {
      "cell_type": "code",
      "source": [
        "# Add dropdown\n",
        "fig.update_layout(\n",
        "    updatemenus=[\n",
        "        dict(\n",
        "            buttons=list([\n",
        "                dict(\n",
        "                    args=[\"type\", \"scatter\"],\n",
        "                    label=\"Scatter Plot\",\n",
        "                    method=\"restyle\"\n",
        "                ),\n",
        "                dict(\n",
        "                    args=[\"type\", \"bar\"],\n",
        "                    label=\"Bar Chart\",\n",
        "                    method=\"restyle\"\n",
        "                )\n",
        "            ]),\n",
        "            direction=\"down\",\n",
        "        ),\n",
        "    ]\n",
        ")\n",
        "  \n",
        "fig.show()"
      ],
      "metadata": {
        "id": "gPTrD2yVlH4Z"
      },
      "execution_count": null,
      "outputs": []
    },
    {
      "cell_type": "markdown",
      "source": [
        "This example puts two buttons on the user interface"
      ],
      "metadata": {
        "id": "xVIAix8lmEGM"
      }
    },
    {
      "cell_type": "code",
      "source": [
        "import plotly.express as px\n",
        "import plotly.graph_objects as go\n",
        "import pandas as pd\n",
        "  \n",
        "# reading the database\n",
        "data = px.data.tips() \n",
        "  \n",
        "  \n",
        "plot = go.Figure(data=[go.Scatter(\n",
        "    x=data['day'],\n",
        "    y=data['tip'],\n",
        "    mode='markers',)\n",
        "])\n",
        "  \n",
        "# Add dropdown\n",
        "plot.update_layout(\n",
        "    updatemenus=[\n",
        "        dict(\n",
        "            type=\"buttons\",\n",
        "            direction=\"left\",\n",
        "            buttons=list([\n",
        "                dict(\n",
        "                    args=[\"type\", \"scatter\"],\n",
        "                    label=\"Scatter Plot\",\n",
        "                    method=\"restyle\"\n",
        "                ),\n",
        "                dict(\n",
        "                    args=[\"type\", \"bar\"],\n",
        "                    label=\"Bar Chart\",\n",
        "                    method=\"restyle\"\n",
        "                )\n",
        "            ]),\n",
        "        ),\n",
        "    ]\n",
        ")\n",
        "  \n",
        "plot.show()"
      ],
      "metadata": {
        "id": "CVUVcG3DLn4-"
      },
      "execution_count": null,
      "outputs": []
    },
    {
      "cell_type": "markdown",
      "source": [
        "**Adding a slider bar**"
      ],
      "metadata": {
        "id": "nVfckKRumzRg"
      }
    },
    {
      "cell_type": "code",
      "source": [
        "#Add a slider bar to the figure\n",
        "df = px.data.tips() \n",
        "  \n",
        "x = df['total_bill'] \n",
        "y = df['day'] \n",
        "  \n",
        "plot = go.Figure(data=[go.line( \n",
        "    x=x, \n",
        "    y=y, \n",
        "    mode='lines',) \n",
        "]) \n",
        "  \n",
        "#plot = px.line( \n",
        "#    x=x, \n",
        "#    y=y)\n",
        "\n",
        "\n",
        "plot.update_layout( \n",
        "    xaxis=dict( \n",
        "        rangeselector=dict( \n",
        "            buttons=list([ \n",
        "                dict(count=1, \n",
        "                    step=\"day\", \n",
        "                    stepmode=\"backward\"), \n",
        "            ]) \n",
        "        ), \n",
        "        rangeslider=dict( \n",
        "            visible=True\n",
        "        ), \n",
        "    ) \n",
        ") \n",
        "  \n",
        "plot.show() "
      ],
      "metadata": {
        "id": "kBeOzHotmfgQ"
      },
      "execution_count": null,
      "outputs": []
    },
    {
      "cell_type": "markdown",
      "source": [
        "**Assignment 6**<br>\n",
        "Use the california housing dataset to create an interactive user interface"
      ],
      "metadata": {
        "id": "_BIj90QlmKC4"
      }
    },
    {
      "cell_type": "code",
      "source": [
        "#Assignment \n",
        "# using the iris dataset\n",
        "df = px.data.iris() \n",
        "df"
      ],
      "metadata": {
        "id": "7z3rVzNomW1t"
      },
      "execution_count": null,
      "outputs": []
    },
    {
      "cell_type": "code",
      "source": [
        "#Example of how to load a dataset\n",
        "df = datasets.load_diabetes()\n",
        "df_diabetes = pd. DataFrame(df.data, columns=df.feature_names)\n",
        "df_diabetes['target'] = pd.Series(df.target)\n",
        "df_diabetes.head()"
      ],
      "metadata": {
        "id": "pAChnmu3efpg"
      },
      "execution_count": null,
      "outputs": []
    },
    {
      "cell_type": "code",
      "source": [
        "np.random.seed(1)\n",
        "\n",
        "N = 100\n",
        "random_x = np.linspace(0, 1, N)\n",
        "random_y0 = np.random.randn(N) + 5\n",
        "random_y1 = np.random.randn(N)\n",
        "random_y2 = np.random.randn(N) - 5\n",
        "\n",
        "fig = go.Figure()\n",
        "\n",
        "# Add traces\n",
        "fig.add_trace(go.Scatter(x=random_x, y=random_y0,\n",
        "                    mode='markers',\n",
        "                    name='markers'))\n",
        "fig.add_trace(go.Scatter(x=random_x, y=random_y1,\n",
        "                    mode='lines+markers',\n",
        "                    name='lines+markers'))\n",
        "fig.add_trace(go.Scatter(x=random_x, y=random_y2,\n",
        "                    mode='lines',\n",
        "                    name='lines'))\n",
        "\n",
        "fig.show()\n"
      ],
      "metadata": {
        "id": "Tvpzyf4niXfX"
      },
      "execution_count": null,
      "outputs": []
    }
  ]
}