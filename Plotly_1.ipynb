{
  "nbformat": 4,
  "nbformat_minor": 0,
  "metadata": {
    "colab": {
      "private_outputs": true,
      "provenance": [],
      "authorship_tag": "ABX9TyO93V6K5lmh2ruKcFc+bXtF",
      "include_colab_link": true
    },
    "kernelspec": {
      "name": "python3",
      "display_name": "Python 3"
    },
    "language_info": {
      "name": "python"
    }
  },
  "cells": [
    {
      "cell_type": "markdown",
      "metadata": {
        "id": "view-in-github",
        "colab_type": "text"
      },
      "source": [
        "<a href=\"https://colab.research.google.com/github/cagBRT/Intro-to-Plotly/blob/main/Plotly_1.ipynb\" target=\"_parent\"><img src=\"https://colab.research.google.com/assets/colab-badge.svg\" alt=\"Open In Colab\"/></a>"
      ]
    },
    {
      "cell_type": "markdown",
      "source": [
        "# Python Plotly Library<br>\n",
        "is an open-source library that can be used for data visualization and understanding data simply and easily. Plotly supports various types of plots like line charts, scatter plots, histograms, cox plots, etc."
      ],
      "metadata": {
        "id": "TgUJ29a_OFVf"
      }
    },
    {
      "cell_type": "code",
      "execution_count": null,
      "metadata": {
        "id": "0LnQQUiDI8IL"
      },
      "outputs": [],
      "source": [
        "!pip install plotly"
      ]
    },
    {
      "cell_type": "markdown",
      "source": [
        "**There are three main modules in the Plotly library:** <br>\n",
        "\n",
        "1. plotly.plotly -- acts as the interface between our code and the Plotly server. \n",
        "2. plotly.graph_objects -- this module contains graphical objects:<br>Figure,<br> layout,<br> data,<br> the definition of the plots like scatter plot, line chart<br>\n",
        "3. plotly tools\n"
      ],
      "metadata": {
        "id": "DrC2hZTMOWru"
      }
    },
    {
      "cell_type": "markdown",
      "source": [
        "# Plotly Express"
      ],
      "metadata": {
        "id": "EdIY8TFvkWwD"
      }
    },
    {
      "cell_type": "markdown",
      "source": [
        "The plotly.express can create a Figure at once. It uses the graph_objects and returns a grap_objects.Figure"
      ],
      "metadata": {
        "id": "VFOnwV9lPO95"
      }
    },
    {
      "cell_type": "code",
      "source": [
        "import plotly.express as px \n",
        "import pandas as pd"
      ],
      "metadata": {
        "id": "13_FeNElQb-f"
      },
      "execution_count": null,
      "outputs": []
    },
    {
      "cell_type": "code",
      "source": [
        "#This code prints the inputs used to create the Figure\n",
        "#And what the figure returns\n",
        "\n",
        "# Creating the Figure instance\n",
        "fig = px.line(x=[1,2, 3], y=[1, 2, 3]) \n",
        "  \n",
        "# printing the figure instance\n",
        "print(fig)"
      ],
      "metadata": {
        "id": "7_Xo8H6HPovC"
      },
      "execution_count": null,
      "outputs": []
    },
    {
      "cell_type": "code",
      "source": [
        "# Creating the Figure instance\n",
        "#Using plotly express, a figure is created\n",
        "fig = px.line(x=[1,2, 3], y=[1, 2, 3]) \n",
        "fig.show()"
      ],
      "metadata": {
        "id": "dojAiZpPJoPT"
      },
      "execution_count": null,
      "outputs": []
    },
    {
      "cell_type": "markdown",
      "source": [
        "**Assignment 1:** <br>\n",
        "Create a dataset of 10 x and y coordinates. \n",
        "Using plotly express, create a line graph of the dataset"
      ],
      "metadata": {
        "id": "PGDMvtxgQHzx"
      }
    },
    {
      "cell_type": "code",
      "source": [],
      "metadata": {
        "id": "NrHGJFcgQXTg"
      },
      "execution_count": null,
      "outputs": []
    },
    {
      "cell_type": "markdown",
      "source": [
        "**Using plotly Express to create a bar chart or a line chart**"
      ],
      "metadata": {
        "id": "zIKkz8-CQlcU"
      }
    },
    {
      "cell_type": "code",
      "source": [
        "fig = px.bar(x=[\"a\", \"b\", \"c\"], y=[1, 3, 2])\n",
        "fig.show()"
      ],
      "metadata": {
        "id": "QrYSV0JkJBJQ"
      },
      "execution_count": null,
      "outputs": []
    },
    {
      "cell_type": "code",
      "source": [
        "# using the iris dataset\n",
        "df = px.data.iris() \n",
        "  \n",
        "# plotting the line chart\n",
        "fig = px.line(df, x=\"species\", y=\"petal_width\") \n",
        "  \n",
        "# showing the plot\n",
        "fig.show()"
      ],
      "metadata": {
        "id": "v-J4vWakJ01F"
      },
      "execution_count": null,
      "outputs": []
    },
    {
      "cell_type": "code",
      "source": [
        "# plotting the bar chart\n",
        "fig = px.bar(df, x=\"sepal_width\", y=\"sepal_length\") \n",
        "  \n",
        "# showing the plot\n",
        "fig.show()"
      ],
      "metadata": {
        "id": "AFKTCq_lJ6ga"
      },
      "execution_count": null,
      "outputs": []
    },
    {
      "cell_type": "markdown",
      "source": [
        "**Assingment 2:** <br>\n",
        "Create a bar graph of two columns of the california housing training dataset. "
      ],
      "metadata": {
        "id": "Iqv1sCi9Q2Kw"
      }
    },
    {
      "cell_type": "code",
      "source": [
        "#Assignment 2\n",
        "import pandas as pd\n",
        "#Notice we created the dataframe using Pandas\n",
        "dfcht = pd.read_csv(\"/content/sample_data/california_housing_train.csv\")\n",
        "dfcht.columns"
      ],
      "metadata": {
        "id": "iDpSB3W-R-7Z"
      },
      "execution_count": null,
      "outputs": []
    },
    {
      "cell_type": "code",
      "source": [],
      "metadata": {
        "id": "d3Hz1IsOnVyE"
      },
      "execution_count": null,
      "outputs": []
    },
    {
      "cell_type": "markdown",
      "source": [
        "**Creating a histogram**<br>\n",
        "A histogram is a graph used to represent the frequency distribution of a few data points of one variable. Histograms often classify data into various “bins” or “range groups” and count how many data points belong to each of those bins."
      ],
      "metadata": {
        "id": "_mzGCFpQhxA_"
      }
    },
    {
      "cell_type": "code",
      "source": [
        "# plotting the histogram\n",
        "fig = px.histogram(df, x=\"sepal_length\", y=\"petal_width\") \n",
        "  \n",
        "# showing the plot\n",
        "fig.show()"
      ],
      "metadata": {
        "id": "k4K_RVP3J90u"
      },
      "execution_count": null,
      "outputs": []
    },
    {
      "cell_type": "markdown",
      "source": [
        "**Creating a scatterplot**"
      ],
      "metadata": {
        "id": "rYXDRDT4iOHn"
      }
    },
    {
      "cell_type": "code",
      "source": [
        "# plotting the scatter chart\n",
        "fig = px.scatter(df, x=\"species\", y=\"petal_width\") \n",
        "  \n",
        "# showing the plot\n",
        "fig.show()"
      ],
      "metadata": {
        "id": "cLI3nnyKKCIf"
      },
      "execution_count": null,
      "outputs": []
    },
    {
      "cell_type": "code",
      "source": [
        "# plotting the bubble chart\n",
        "fig = px.scatter(df, x=\"species\", y=\"petal_width\", \n",
        "                 size=\"petal_length\", color=\"species\") \n",
        "  \n",
        "# showing the plot\n",
        "fig.show()"
      ],
      "metadata": {
        "id": "KTtWF9RmKGk7"
      },
      "execution_count": null,
      "outputs": []
    },
    {
      "cell_type": "markdown",
      "source": [
        "**Assignment 3:** <br>\n",
        "Using two columns from the california house training dataset, create a bubble scatter plot"
      ],
      "metadata": {
        "id": "KWAi1NGGiVvb"
      }
    },
    {
      "cell_type": "code",
      "source": [
        "#Assignment 3"
      ],
      "metadata": {
        "id": "4u1crxHdih3i"
      },
      "execution_count": null,
      "outputs": []
    },
    {
      "cell_type": "markdown",
      "source": [
        "**Creating a pie chart**"
      ],
      "metadata": {
        "id": "Rtf5ATrLiqBi"
      }
    },
    {
      "cell_type": "code",
      "source": [
        "# using the tips dataset\n",
        "df = px.data.tips() \n",
        "  \n",
        "# plotting the pie chart\n",
        "fig = px.pie(df, values=\"total_bill\", names=\"day\") \n",
        "  \n",
        "# showing the plot\n",
        "fig.show()"
      ],
      "metadata": {
        "id": "z15A-92TKLor"
      },
      "execution_count": null,
      "outputs": []
    },
    {
      "cell_type": "markdown",
      "source": [
        "**Creating a box plot**<br>\n",
        "A box plot is a graphical rendition of statistical data based on:<br>\n",
        "> minimum, <br>first quartile, <br>median, <br>third quartile,  <br>maximum. <br>\n",
        " <br>The term \"box plot\" comes from the fact that the graph looks like a rectangle with lines extending from the top and bottom."
      ],
      "metadata": {
        "id": "bCy3_FkfiuMh"
      }
    },
    {
      "cell_type": "code",
      "source": [
        "# using the tips dataset\n",
        "df = px.data.tips() \n",
        "  \n",
        "# plotting the box chart\n",
        "fig = px.box(df, x=\"day\", y=\"total_bill\") \n",
        "  \n",
        "# showing the plot\n",
        "fig.show()"
      ],
      "metadata": {
        "id": "1aQz_vSvKXiM"
      },
      "execution_count": null,
      "outputs": []
    },
    {
      "cell_type": "markdown",
      "source": [
        "**Violin Plots**<br>\n",
        "A violin plot is a hybrid of a box plot and a kernel density plot, which shows peaks in the data.<br> \n",
        "It is used to visualize the distribution of numerical data. Unlike a box plot that can only show summary statistics, violin plots depict summary statistics and the density of each variable."
      ],
      "metadata": {
        "id": "14XXw7MrjU9r"
      }
    },
    {
      "cell_type": "code",
      "source": [
        "# plotting the violin chart\n",
        "fig = px.violin(df, x=\"day\", y=\"total_bill\")\n",
        "  \n",
        "# showing the plot\n",
        "fig.show()"
      ],
      "metadata": {
        "id": "K_NCQbtPKbzb"
      },
      "execution_count": null,
      "outputs": []
    },
    {
      "cell_type": "markdown",
      "source": [
        "**Creating a Gant Chart**"
      ],
      "metadata": {
        "id": "pATDivsCje_f"
      }
    },
    {
      "cell_type": "code",
      "source": [
        "# Data to be plotted\n",
        "import plotly.figure_factory as ff \n",
        "df = [dict(Task=\"A\", Start='2020-01-01', Finish='2009-02-02'), \n",
        "    dict(Task=\"Job B\", Start='2020-03-01', Finish='2020-11-11'), \n",
        "    dict(Task=\"Job C\", Start='2020-08-06', Finish='2020-09-21')] \n",
        "  \n",
        "# Creating the plot\n",
        "fig = ff.create_gantt(df) \n",
        "fig.show()"
      ],
      "metadata": {
        "id": "pOAItAKxKfQh"
      },
      "execution_count": null,
      "outputs": []
    },
    {
      "cell_type": "markdown",
      "source": [
        "**Creating a Mesh Grid**"
      ],
      "metadata": {
        "id": "ba6Cl7Rgjm02"
      }
    },
    {
      "cell_type": "code",
      "source": [
        "import plotly.graph_objects as go \n",
        "import numpy as np\n",
        "\n",
        "# Creating the X, Y value that will\n",
        "# change the values of Z as a function\n",
        "feature_x = np.arange(0, 50, 2) \n",
        "feature_y = np.arange(0, 50, 3) \n",
        "  \n",
        "# Creating 2-D grid of features \n",
        "[X, Y] = np.meshgrid(feature_x, feature_y) \n",
        "  \n",
        "Z = np.cos(X / 2) + np.sin(Y / 4) \n",
        "  \n",
        "# plotting the figure\n",
        "fig = go.Figure(data =\n",
        "    go.Contour(x = feature_x, y = feature_y, z = Z)) \n",
        "  \n",
        "fig.show()"
      ],
      "metadata": {
        "id": "6OYX4rrVKvDV"
      },
      "execution_count": null,
      "outputs": []
    },
    {
      "cell_type": "code",
      "source": [
        "feature_x = np.arange(0, 50, 2) \n",
        "feature_y = np.arange(0, 50, 3) \n",
        "  \n",
        "# Creating 2-D grid of features \n",
        "[X, Y] = np.meshgrid(feature_x, feature_y) \n",
        "  \n",
        "Z = np.cos(X / 2) + np.sin(Y / 4) \n",
        "  \n",
        "# plotting the figure\n",
        "fig = go.Figure(data =\n",
        "     go.Heatmap(x = feature_x, y = feature_y, z = Z,)) \n",
        "  \n",
        "fig.show()"
      ],
      "metadata": {
        "id": "5uGKV-eSK7Yv"
      },
      "execution_count": null,
      "outputs": []
    },
    {
      "cell_type": "markdown",
      "source": [
        "**Assignment 4**<br>\n",
        "Using two columns from the california housing dataset, create a meshgrid"
      ],
      "metadata": {
        "id": "hkNBPDZTjx5x"
      }
    },
    {
      "cell_type": "code",
      "source": [
        "#Assignment 4\n"
      ],
      "metadata": {
        "id": "M_p4N2Hkj_46"
      },
      "execution_count": null,
      "outputs": []
    },
    {
      "cell_type": "markdown",
      "source": [
        "**Error scatter plot**"
      ],
      "metadata": {
        "id": "bHN0xHDhkIuD"
      }
    },
    {
      "cell_type": "code",
      "source": [
        "# using the iris dataset\n",
        "df = px.data.iris() \n",
        "  \n",
        "# Calculating the error field\n",
        "df[\"error\"] = df[\"petal_length\"]/100\n",
        "  \n",
        "# plotting the scatter chart\n",
        "fig = px.scatter(df, x=\"species\", y=\"petal_width\",\n",
        "                error_x=\"error\", error_y=\"error\") \n",
        "  \n",
        "# showing the plot\n",
        "fig.show()"
      ],
      "metadata": {
        "id": "9eBqKuoHK-13"
      },
      "execution_count": null,
      "outputs": []
    },
    {
      "cell_type": "markdown",
      "source": [
        "**Creating 3D line charts**"
      ],
      "metadata": {
        "id": "wQk7CaA2kEil"
      }
    },
    {
      "cell_type": "code",
      "source": [
        "# data to be plotted\n",
        "df = px.data.tips() \n",
        "  \n",
        "# plotting the figure\n",
        "fig = px.line_3d(df, x=\"sex\", y=\"day\", \n",
        "                 z=\"time\", color=\"sex\") \n",
        "  \n",
        "fig.show()"
      ],
      "metadata": {
        "id": "h-ExLOYULB_Z"
      },
      "execution_count": null,
      "outputs": []
    },
    {
      "cell_type": "code",
      "source": [
        "# Plotting the figure\n",
        "df = px.data.iris()\n",
        "fig = px.scatter_3d(df, x = 'sepal_width', \n",
        "                    y = 'sepal_length', \n",
        "                    z = 'petal_width', \n",
        "                    color = 'species') \n",
        "  \n",
        "fig.show()"
      ],
      "metadata": {
        "id": "cXqV7mgmLFcQ"
      },
      "execution_count": null,
      "outputs": []
    },
    {
      "cell_type": "code",
      "source": [
        "# Data to be plotted\n",
        "x = np.outer(np.linspace(-2, 2, 30), np.ones(30)) \n",
        "y = x.copy().T \n",
        "z = np.cos(x ** 2 + y ** 2) \n",
        "  \n",
        "# plotting the figure\n",
        "fig = go.Figure(data=[go.Surface(x=x, y=y, z=z)]) \n",
        "  \n",
        "fig.show()"
      ],
      "metadata": {
        "id": "UIM-jnloLPSD"
      },
      "execution_count": null,
      "outputs": []
    },
    {
      "cell_type": "markdown",
      "source": [
        "**Assignment 5:**<br>\n",
        "Using the california housing dataset, create a 3D plot of your choice"
      ],
      "metadata": {
        "id": "ETw2rVaVknu6"
      }
    },
    {
      "cell_type": "code",
      "source": [
        "#Assignment 5\n"
      ],
      "metadata": {
        "id": "XjUwf_o5kwRl"
      },
      "execution_count": null,
      "outputs": []
    }
  ]
}