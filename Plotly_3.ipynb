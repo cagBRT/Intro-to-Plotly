{
  "nbformat": 4,
  "nbformat_minor": 0,
  "metadata": {
    "colab": {
      "private_outputs": true,
      "provenance": [],
      "authorship_tag": "ABX9TyOcnpcV5h2Ddj3nj2lV4Ap+",
      "include_colab_link": true
    },
    "kernelspec": {
      "name": "python3",
      "display_name": "Python 3"
    },
    "language_info": {
      "name": "python"
    }
  },
  "cells": [
    {
      "cell_type": "markdown",
      "metadata": {
        "id": "view-in-github",
        "colab_type": "text"
      },
      "source": [
        "<a href=\"https://colab.research.google.com/github/cagBRT/Intro-to-Plotly/blob/main/Plotly_3.ipynb\" target=\"_parent\"><img src=\"https://colab.research.google.com/assets/colab-badge.svg\" alt=\"Open In Colab\"/></a>"
      ]
    },
    {
      "cell_type": "markdown",
      "source": [
        "# Figure Factory<br>\n",
        "Plotly's Python API contains a figure factory module which includes many wrapper functions that create unique chart types "
      ],
      "metadata": {
        "id": "pKfQglLDnMO_"
      }
    },
    {
      "cell_type": "code",
      "source": [
        "!pip install plotly"
      ],
      "metadata": {
        "id": "kzz4FD1pr-DY"
      },
      "execution_count": null,
      "outputs": []
    },
    {
      "cell_type": "code",
      "source": [
        "import ploty.express as px\n",
        "import plotly.graph_objects as go"
      ],
      "metadata": {
        "id": "BOOH4XPDr87w"
      },
      "execution_count": null,
      "outputs": []
    },
    {
      "cell_type": "code",
      "source": [
        "import plotly.figure_factory as ff"
      ],
      "metadata": {
        "id": "zVY8Or3kowW9"
      },
      "execution_count": null,
      "outputs": []
    },
    {
      "cell_type": "code",
      "source": [
        "data = [\n",
        "{\"label\": \"revenue\",\n",
        "\"sublabel\": \"us$, in thousands\",\n",
        "\"range\": [150, 225, 300],\n",
        "\"performance\": [220,270],\n",
        "\"point\": [250]},\n",
        "\t\n",
        "{\"label\": \"Profit\",\n",
        "\"sublabel\": \"%\",\n",
        "\"range\": [20, 25, 30],\n",
        "\"performance\": [21, 23],\n",
        "\"point\": [26]},\n",
        "\t\n",
        "{\"label\": \"Order Size\",\n",
        "\"sublabel\":\"US$, average\",\n",
        "\"range\": [350, 500, 600],\n",
        "\"performance\": [100,320],\n",
        "\"point\": [550]},\n",
        "\t\n",
        "{\"label\": \"New Customers\",\n",
        "\"sublabel\": \"count\",\n",
        "\"range\": [1400, 2000, 2500],\n",
        "\"performance\": [1000, 1650],\n",
        "\"point\": [2100]},\n",
        "\t\n",
        "{\"label\": \"Satisfaction\",\n",
        "\"sublabel\": \"out of 5\",\n",
        "\"range\": [3.5, 4.25, 5],\n",
        "\"performance\": [3.2, 4.7],\n",
        "\"point\": [4.4]}\n",
        "]\n",
        "\n",
        "fig = ff.create_bullet(\n",
        "\tdata, titles='label',\n",
        "\tsubtitles='sublabel',\n",
        "\tmarkers='point',\n",
        "\tmeasures='performance',\n",
        "\tranges='range',\n",
        "\torientation='h',\n",
        "\ttitle='A simple bullet chart'\n",
        ")\n",
        "\n",
        "fig.show()"
      ],
      "metadata": {
        "id": "ULQ4t5VFnQbP"
      },
      "execution_count": null,
      "outputs": []
    },
    {
      "cell_type": "markdown",
      "source": [
        "**More complex figure factory use**"
      ],
      "metadata": {
        "id": "sZhoeCcfpZEl"
      }
    },
    {
      "cell_type": "markdown",
      "source": [
        "**Vertical Figure Factory Charts**<br>\n",
        "1. Create the figures that are to appear in the subplot"
      ],
      "metadata": {
        "id": "-k4UKXJ7pfyF"
      }
    },
    {
      "cell_type": "code",
      "source": [
        "## Create first figure\n",
        "x1,y1 = np.meshgrid(np.arange(0, 2, .2), np.arange(0, 2, .2))\n",
        "u1 = np.cos(x1)*y1\n",
        "v1 = np.sin(x1)*y1\n",
        "\n",
        "fig1 = ff.create_quiver(x1, y1, u1, v1, name='Quiver')\n",
        "\n",
        "## Create second figure\n",
        "x = np.linspace(-3, 3, 100)\n",
        "y = np.linspace(-3, 3, 100)\n",
        "Y, X = np.meshgrid(x, y)\n",
        "u = -1 - X**2 + Y\n",
        "v = 1 + X - Y**2\n",
        "\n",
        "fig2 = ff.create_streamline(x, y, u, v, arrow_scale=.1, name='Steamline')"
      ],
      "metadata": {
        "id": "R0T-aKXupee_"
      },
      "execution_count": null,
      "outputs": []
    },
    {
      "cell_type": "markdown",
      "source": [
        "2. Edit the figure's x and y axes attributes to create the subplots"
      ],
      "metadata": {
        "id": "zOAgcsg8pwsD"
      }
    },
    {
      "cell_type": "code",
      "source": [
        "for i in range(len(fig1.data)):\n",
        "    fig1.data[i].xaxis='x1'\n",
        "    fig1.data[i].yaxis='y1'\n",
        "\n",
        "fig1.layout.xaxis1.update({'anchor': 'y1'})\n",
        "fig1.layout.yaxis1.update({'anchor': 'x1', 'domain': [.55, 1]})\n",
        "\n",
        "for i in range(len(fig2.data)):\n",
        "    fig2.data[i].xaxis='x2'\n",
        "    fig2.data[i].yaxis='y2'\n",
        "\n",
        "# initialize xaxis2 and yaxis2\n",
        "fig2['layout']['xaxis2'] = {}\n",
        "fig2['layout']['yaxis2'] = {}\n",
        "\n",
        "fig2.layout.xaxis2.update({'anchor': 'y2'})\n",
        "fig2.layout.yaxis2.update({'anchor': 'x2', 'domain': [0, .45]})"
      ],
      "metadata": {
        "id": "ZUrpBMA-p2qk"
      },
      "execution_count": null,
      "outputs": []
    },
    {
      "cell_type": "markdown",
      "source": [
        "3. Combine the data and the layout objects to create a figure"
      ],
      "metadata": {
        "id": "FnpVWTGVp6Kq"
      }
    },
    {
      "cell_type": "code",
      "source": [
        "fig = go.Figure()\n",
        "fig.add_traces([fig1.data[0], fig2.data[0]])\n",
        "\n",
        "fig.layout.update(fig1.layout)\n",
        "fig.layout.update(fig2.layout)\n",
        "\n",
        "fig.show()"
      ],
      "metadata": {
        "id": "3Ln3Id_vp_Lc"
      },
      "execution_count": null,
      "outputs": []
    },
    {
      "cell_type": "markdown",
      "source": [
        "**Horizontal Table and Chart**"
      ],
      "metadata": {
        "id": "KrL-NoH7q08L"
      }
    },
    {
      "cell_type": "code",
      "source": [
        "table_data = [['Team', 'Wins', 'Losses', 'Ties'],\n",
        "              ['Montréal<br>Canadiens', 18, 4, 0],\n",
        "              ['Dallas Stars', 18, 5, 0],\n",
        "              ['NY Rangers', 16, 5, 0],\n",
        "              ['Boston<br>Bruins', 13, 8, 0],\n",
        "              ['Chicago<br>Blackhawks', 13, 8, 0],\n",
        "              ['LA Kings', 13, 8, 0],\n",
        "              ['Ottawa<br>Senators', 12, 5, 0]]\n",
        "\n",
        "fig = ff.create_table(table_data, height_constant=60)\n",
        "\n",
        "teams = ['Montréal Canadiens', 'Dallas Stars', 'NY Rangers',\n",
        "         'Boston Bruins', 'Chicago Blackhawks', 'LA Kings', 'Ottawa Senators']\n",
        "GFPG = [3.54, 3.48, 3.0, 3.27, 2.83, 2.45, 3.18]\n",
        "GAPG = [2.17, 2.57, 2.0, 2.91, 2.57, 2.14, 2.77]\n",
        "\n",
        "trace1 = go.Scatter(x=teams, y=GFPG,\n",
        "                    marker=dict(color='#0099ff'),\n",
        "                    name='Goals For<br>Per Game',\n",
        "                    xaxis='x2', yaxis='y2')\n",
        "trace2 = go.Scatter(x=teams, y=GAPG,\n",
        "                    marker=dict(color='#404040'),\n",
        "                    name='Goals Against<br>Per Game',\n",
        "                    xaxis='x2', yaxis='y2')\n",
        "\n",
        "fig.add_traces([trace1, trace2])\n",
        "\n",
        "# initialize xaxis2 and yaxis2\n",
        "fig['layout']['xaxis2'] = {}\n",
        "fig['layout']['yaxis2'] = {}\n",
        "\n",
        "# Edit layout for subplots\n",
        "fig.layout.xaxis.update({'domain': [0, .5]})\n",
        "fig.layout.xaxis2.update({'domain': [0.6, 1.]})\n",
        "\n",
        "# The graph's yaxis MUST BE anchored to the graph's xaxis\n",
        "fig.layout.yaxis2.update({'anchor': 'x2'})\n",
        "fig.layout.yaxis2.update({'title': 'Goals'})\n",
        "\n",
        "# Update the margins to add a title and see graph x-labels.\n",
        "fig.layout.margin.update({'t':50, 'b':100})\n",
        "fig.layout.update({'title': '2016 Hockey Stats'})\n",
        "\n",
        "fig.show()\n"
      ],
      "metadata": {
        "id": "H85twXyXq4ph"
      },
      "execution_count": null,
      "outputs": []
    },
    {
      "cell_type": "markdown",
      "source": [
        "**Verical Table and Chart**"
      ],
      "metadata": {
        "id": "rHTmklB2q-mO"
      }
    },
    {
      "cell_type": "code",
      "source": [
        "# Add table data\n",
        "table_data = [['Team', 'Wins', 'Losses', 'Ties'],\n",
        "              ['Montréal<br>Canadiens', 18, 4, 0],\n",
        "              ['Dallas Stars', 18, 5, 0],\n",
        "              ['NY Rangers', 16, 5, 0],\n",
        "              ['Boston<br>Bruins', 13, 8, 0],\n",
        "              ['Chicago<br>Blackhawks', 13, 8, 0],\n",
        "              ['Ottawa<br>Senators', 12, 5, 0]]\n",
        "\n",
        "# Initialize a figure with ff.create_table(table_data)\n",
        "fig = ff.create_table(table_data, height_constant=60)\n",
        "\n",
        "# Add graph data\n",
        "teams = ['Montréal Canadiens', 'Dallas Stars', 'NY Rangers',\n",
        "         'Boston Bruins', 'Chicago Blackhawks', 'Ottawa Senators']\n",
        "GFPG = [3.54, 3.48, 3.0, 3.27, 2.83, 3.18]\n",
        "GAPG = [2.17, 2.57, 2.0, 2.91, 2.57, 2.77]\n",
        "\n",
        "# Make traces for graph\n",
        "trace1 = go.Bar(x=teams, y=GFPG, xaxis='x2', yaxis='y2',\n",
        "                marker=dict(color='#0099ff'),\n",
        "                name='Goals For<br>Per Game')\n",
        "trace2 = go.Bar(x=teams, y=GAPG, xaxis='x2', yaxis='y2',\n",
        "                marker=dict(color='#404040'),\n",
        "                name='Goals Against<br>Per Game')\n",
        "\n",
        "# Add trace data to figure\n",
        "fig.add_traces([trace1, trace2])\n",
        "\n",
        "# initialize xaxis2 and yaxis2\n",
        "fig['layout']['xaxis2'] = {}\n",
        "fig['layout']['yaxis2'] = {}\n",
        "\n",
        "# Edit layout for subplots\n",
        "fig.layout.yaxis.update({'domain': [0, .45]})\n",
        "fig.layout.yaxis2.update({'domain': [.6, 1]})\n",
        "\n",
        "# The graph's yaxis2 MUST BE anchored to the graph's xaxis2 and vice versa\n",
        "fig.layout.yaxis2.update({'anchor': 'x2'})\n",
        "fig.layout.xaxis2.update({'anchor': 'y2'})\n",
        "fig.layout.yaxis2.update({'title': 'Goals'})\n",
        "\n",
        "# Update the margins to add a title and see graph x-labels.\n",
        "fig.layout.margin.update({'t':75, 'l':50})\n",
        "fig.layout.update({'title': '2016 Hockey Stats'})\n",
        "\n",
        "# Update the height because adding a graph vertically will interact with\n",
        "# the plot height calculated for the table\n",
        "fig.layout.update({'height':800})\n",
        "\n",
        "# Plot!\n",
        "fig.show()"
      ],
      "metadata": {
        "id": "uwwRD2itrCSt"
      },
      "execution_count": null,
      "outputs": []
    },
    {
      "cell_type": "markdown",
      "source": [
        "**Assignment:** <br>\n",
        "Create an interactive Figure using the california housing training dataset"
      ],
      "metadata": {
        "id": "nzsRHxvos5k7"
      }
    },
    {
      "cell_type": "code",
      "source": [
        "df = pd.read_csv(\"/content/sample_data/california_housing_train.csv\")\n",
        "df.columns"
      ],
      "metadata": {
        "id": "af4vOoHbtIX2"
      },
      "execution_count": null,
      "outputs": []
    }
  ]
}